{
 "cells": [
  {
   "cell_type": "code",
   "execution_count": 116,
   "id": "5911b629",
   "metadata": {},
   "outputs": [],
   "source": [
    "import pandas as pd\n",
    "import joblib\n",
    "from sklearn.feature_extraction.text import TfidfVectorizer"
   ]
  },
  {
   "cell_type": "code",
   "execution_count": 117,
   "id": "b3e8f8cb",
   "metadata": {},
   "outputs": [
    {
     "data": {
      "text/html": [
       "<div>\n",
       "<style scoped>\n",
       "    .dataframe tbody tr th:only-of-type {\n",
       "        vertical-align: middle;\n",
       "    }\n",
       "\n",
       "    .dataframe tbody tr th {\n",
       "        vertical-align: top;\n",
       "    }\n",
       "\n",
       "    .dataframe thead th {\n",
       "        text-align: right;\n",
       "    }\n",
       "</style>\n",
       "<table border=\"1\" class=\"dataframe\">\n",
       "  <thead>\n",
       "    <tr style=\"text-align: right;\">\n",
       "      <th></th>\n",
       "      <th>path_id</th>\n",
       "      <th>level</th>\n",
       "      <th>role</th>\n",
       "      <th>required_skills</th>\n",
       "      <th>avg_salary</th>\n",
       "      <th>industry</th>\n",
       "    </tr>\n",
       "  </thead>\n",
       "  <tbody>\n",
       "    <tr>\n",
       "      <th>0</th>\n",
       "      <td>Doctor Path</td>\n",
       "      <td>1</td>\n",
       "      <td>Medical Intern</td>\n",
       "      <td>Anatomy,Clinical Practice,Patient Care</td>\n",
       "      <td>50000</td>\n",
       "      <td>Healthcare</td>\n",
       "    </tr>\n",
       "    <tr>\n",
       "      <th>2</th>\n",
       "      <td>Blockchain Path</td>\n",
       "      <td>1</td>\n",
       "      <td>Smart Contract Dev Intern</td>\n",
       "      <td>Solidity,Remix IDE</td>\n",
       "      <td>40000</td>\n",
       "      <td>Web3</td>\n",
       "    </tr>\n",
       "    <tr>\n",
       "      <th>3</th>\n",
       "      <td>Film Production Path</td>\n",
       "      <td>1</td>\n",
       "      <td>Production Assistant</td>\n",
       "      <td>Coordination,Script Reading,Equipment Handling</td>\n",
       "      <td>30000</td>\n",
       "      <td>Media</td>\n",
       "    </tr>\n",
       "  </tbody>\n",
       "</table>\n",
       "</div>"
      ],
      "text/plain": [
       "                path_id  level                       role  \\\n",
       "0           Doctor Path      1             Medical Intern   \n",
       "2       Blockchain Path      1  Smart Contract Dev Intern   \n",
       "3  Film Production Path      1       Production Assistant   \n",
       "\n",
       "                                  required_skills  avg_salary    industry  \n",
       "0          Anatomy,Clinical Practice,Patient Care       50000  Healthcare  \n",
       "2                              Solidity,Remix IDE       40000        Web3  \n",
       "3  Coordination,Script Reading,Equipment Handling       30000       Media  "
      ]
     },
     "execution_count": 117,
     "metadata": {},
     "output_type": "execute_result"
    }
   ],
   "source": [
    "career_df = pd.read_csv(\"generated_career_paths.csv\")\n",
    "career_df.drop_duplicates(inplace=True)\n",
    "career_df.head(3)"
   ]
  },
  {
   "cell_type": "code",
   "execution_count": 118,
   "id": "b4a62171",
   "metadata": {},
   "outputs": [],
   "source": [
    "import re\n",
    "import nltk\n",
    "from nltk.corpus import stopwords\n",
    "from nltk.stem import WordNetLemmatizer"
   ]
  },
  {
   "cell_type": "code",
   "execution_count": 119,
   "id": "084af0a0",
   "metadata": {},
   "outputs": [
    {
     "name": "stderr",
     "output_type": "stream",
     "text": [
      "[nltk_data] Downloading package stopwords to C:\\Users\\Dwi Wahyu\n",
      "[nltk_data]     Lestari\\AppData\\Roaming\\nltk_data...\n",
      "[nltk_data]   Package stopwords is already up-to-date!\n",
      "[nltk_data] Downloading package wordnet to C:\\Users\\Dwi Wahyu\n",
      "[nltk_data]     Lestari\\AppData\\Roaming\\nltk_data...\n",
      "[nltk_data]   Package wordnet is already up-to-date!\n"
     ]
    },
    {
     "data": {
      "text/plain": [
       "True"
      ]
     },
     "execution_count": 119,
     "metadata": {},
     "output_type": "execute_result"
    }
   ],
   "source": [
    "nltk.download('stopwords')\n",
    "nltk.download('wordnet')"
   ]
  },
  {
   "cell_type": "code",
   "execution_count": 120,
   "id": "057c882b",
   "metadata": {},
   "outputs": [],
   "source": [
    "stop_words = set(stopwords.words('english'))\n",
    "lemmatizer = WordNetLemmatizer()\n",
    "\n",
    "def clean_and_lemmatize(text):\n",
    "    text = text.lower()\n",
    "\n",
    "    # remove numbers and special characters\n",
    "    text = re.sub(r'[^a-z\\s]', '', text)\n",
    "    words = text.split()\n",
    "\n",
    "    # remove stopwords\n",
    "    words = [w for w in words if w not in stop_words]\n",
    "\n",
    "    # lemmatize\n",
    "    words = [lemmatizer.lemmatize(w) for w in words]\n",
    "    return ' '.join(words)"
   ]
  },
  {
   "cell_type": "code",
   "execution_count": 121,
   "id": "eac92c2d",
   "metadata": {},
   "outputs": [
    {
     "data": {
      "text/html": [
       "<div>\n",
       "<style scoped>\n",
       "    .dataframe tbody tr th:only-of-type {\n",
       "        vertical-align: middle;\n",
       "    }\n",
       "\n",
       "    .dataframe tbody tr th {\n",
       "        vertical-align: top;\n",
       "    }\n",
       "\n",
       "    .dataframe thead th {\n",
       "        text-align: right;\n",
       "    }\n",
       "</style>\n",
       "<table border=\"1\" class=\"dataframe\">\n",
       "  <thead>\n",
       "    <tr style=\"text-align: right;\">\n",
       "      <th></th>\n",
       "      <th>path_id</th>\n",
       "      <th>level</th>\n",
       "      <th>role</th>\n",
       "      <th>required_skills</th>\n",
       "      <th>avg_salary</th>\n",
       "      <th>industry</th>\n",
       "    </tr>\n",
       "  </thead>\n",
       "  <tbody>\n",
       "    <tr>\n",
       "      <th>0</th>\n",
       "      <td>Doctor Path</td>\n",
       "      <td>1</td>\n",
       "      <td>Medical Intern</td>\n",
       "      <td>anatomyclinical practicepatient care</td>\n",
       "      <td>50000</td>\n",
       "      <td>Healthcare</td>\n",
       "    </tr>\n",
       "    <tr>\n",
       "      <th>2</th>\n",
       "      <td>Blockchain Path</td>\n",
       "      <td>1</td>\n",
       "      <td>Smart Contract Dev Intern</td>\n",
       "      <td>solidityremix ide</td>\n",
       "      <td>40000</td>\n",
       "      <td>Web3</td>\n",
       "    </tr>\n",
       "    <tr>\n",
       "      <th>3</th>\n",
       "      <td>Film Production Path</td>\n",
       "      <td>1</td>\n",
       "      <td>Production Assistant</td>\n",
       "      <td>coordinationscript readingequipment handling</td>\n",
       "      <td>30000</td>\n",
       "      <td>Media</td>\n",
       "    </tr>\n",
       "  </tbody>\n",
       "</table>\n",
       "</div>"
      ],
      "text/plain": [
       "                path_id  level                       role  \\\n",
       "0           Doctor Path      1             Medical Intern   \n",
       "2       Blockchain Path      1  Smart Contract Dev Intern   \n",
       "3  Film Production Path      1       Production Assistant   \n",
       "\n",
       "                                required_skills  avg_salary    industry  \n",
       "0          anatomyclinical practicepatient care       50000  Healthcare  \n",
       "2                             solidityremix ide       40000        Web3  \n",
       "3  coordinationscript readingequipment handling       30000       Media  "
      ]
     },
     "execution_count": 121,
     "metadata": {},
     "output_type": "execute_result"
    }
   ],
   "source": [
    "career_df['required_skills'] = career_df['required_skills'].apply(clean_and_lemmatize)\n",
    "career_df.head(3)"
   ]
  },
  {
   "cell_type": "code",
   "execution_count": 122,
   "id": "be65a8f5",
   "metadata": {},
   "outputs": [],
   "source": [
    "career_df[\"combined_text\"] = (\n",
    "    career_df[\"path_id\"].astype(str) + \" \" +\n",
    "    career_df[\"role\"].astype(str) + \" \" +\n",
    "    career_df[\"required_skills\"].astype(str)\n",
    ")"
   ]
  },
  {
   "cell_type": "code",
   "execution_count": 123,
   "id": "25b54d29",
   "metadata": {},
   "outputs": [],
   "source": [
    "vectorizer = TfidfVectorizer()\n",
    "tfidf_matrix = vectorizer.fit_transform(career_df[\"combined_text\"])"
   ]
  },
  {
   "cell_type": "code",
   "execution_count": 124,
   "id": "746bd092",
   "metadata": {},
   "outputs": [],
   "source": [
    "model_data = {\n",
    "    \"vectorizer\": vectorizer,\n",
    "    \"tfidf_matrix\": tfidf_matrix,\n",
    "    \"dataframe\": career_df\n",
    "}"
   ]
  },
  {
   "cell_type": "code",
   "execution_count": 125,
   "id": "93e1fa4c",
   "metadata": {},
   "outputs": [
    {
     "data": {
      "text/plain": [
       "['career_recommender_tfidf.joblib']"
      ]
     },
     "execution_count": 125,
     "metadata": {},
     "output_type": "execute_result"
    }
   ],
   "source": [
    "joblib.dump(model_data, \"career_recommender_tfidf.joblib\")"
   ]
  },
  {
   "cell_type": "code",
   "execution_count": 126,
   "id": "f197d34e",
   "metadata": {},
   "outputs": [],
   "source": [
    "model = joblib.load(\"career_recommender_tfidf.joblib\")\n",
    "vectorizer = model[\"vectorizer\"]\n",
    "tfidf_matrix = model[\"tfidf_matrix\"]\n",
    "career_df = model[\"dataframe\"]"
   ]
  },
  {
   "cell_type": "code",
   "execution_count": 127,
   "id": "55f2879a",
   "metadata": {},
   "outputs": [],
   "source": [
    "from sklearn.metrics.pairwise import cosine_similarity\n",
    "\n",
    "def recommend_from_model(query_text: str, preferred_industries: list = None, top_n: int = 5):\n",
    "    query_vec = vectorizer.transform([query_text])\n",
    "    similarities = cosine_similarity(query_vec, tfidf_matrix).flatten()\n",
    "\n",
    "    df_copy = career_df.copy()\n",
    "    df_copy[\"similarity\"] = similarities\n",
    "\n",
    "    if preferred_industries:\n",
    "        df_copy = df_copy[df_copy[\"industry\"].isin(preferred_industries)]\n",
    "\n",
    "    recommended = df_copy.sort_values(by=[\"similarity\", \"level\"], ascending=[False, True])\n",
    "    return recommended[[\"path_id\", \"level\", \"role\", \"required_skills\", \"avg_salary\", \"industry\", \"similarity\"]].head(top_n)\n"
   ]
  },
  {
   "cell_type": "code",
   "execution_count": 128,
   "id": "813fd310",
   "metadata": {},
   "outputs": [
    {
     "data": {
      "text/html": [
       "<div>\n",
       "<style scoped>\n",
       "    .dataframe tbody tr th:only-of-type {\n",
       "        vertical-align: middle;\n",
       "    }\n",
       "\n",
       "    .dataframe tbody tr th {\n",
       "        vertical-align: top;\n",
       "    }\n",
       "\n",
       "    .dataframe thead th {\n",
       "        text-align: right;\n",
       "    }\n",
       "</style>\n",
       "<table border=\"1\" class=\"dataframe\">\n",
       "  <thead>\n",
       "    <tr style=\"text-align: right;\">\n",
       "      <th></th>\n",
       "      <th>path_id</th>\n",
       "      <th>level</th>\n",
       "      <th>role</th>\n",
       "      <th>required_skills</th>\n",
       "      <th>avg_salary</th>\n",
       "      <th>industry</th>\n",
       "      <th>similarity</th>\n",
       "    </tr>\n",
       "  </thead>\n",
       "  <tbody>\n",
       "    <tr>\n",
       "      <th>32</th>\n",
       "      <td>Statistics Path</td>\n",
       "      <td>1</td>\n",
       "      <td>Data Assistant</td>\n",
       "      <td>excelrdata entry</td>\n",
       "      <td>40000</td>\n",
       "      <td>Science</td>\n",
       "      <td>0.519544</td>\n",
       "    </tr>\n",
       "    <tr>\n",
       "      <th>12</th>\n",
       "      <td>Cybersecurity Path</td>\n",
       "      <td>1</td>\n",
       "      <td>Security Analyst</td>\n",
       "      <td>networkingpythonlog analysis</td>\n",
       "      <td>65000</td>\n",
       "      <td>Tech</td>\n",
       "      <td>0.254910</td>\n",
       "    </tr>\n",
       "    <tr>\n",
       "      <th>113</th>\n",
       "      <td>Statistics Path</td>\n",
       "      <td>3</td>\n",
       "      <td>Senior Statistician</td>\n",
       "      <td>modelingpublicationsleadership</td>\n",
       "      <td>95000</td>\n",
       "      <td>Science</td>\n",
       "      <td>0.252109</td>\n",
       "    </tr>\n",
       "    <tr>\n",
       "      <th>75</th>\n",
       "      <td>Statistics Path</td>\n",
       "      <td>2</td>\n",
       "      <td>Statistician</td>\n",
       "      <td>hypothesis testingrspss</td>\n",
       "      <td>70000</td>\n",
       "      <td>Science</td>\n",
       "      <td>0.233821</td>\n",
       "    </tr>\n",
       "    <tr>\n",
       "      <th>7</th>\n",
       "      <td>Game Dev Path</td>\n",
       "      <td>1</td>\n",
       "      <td>Game Tester</td>\n",
       "      <td>bug reportinggameplay analysis</td>\n",
       "      <td>30000</td>\n",
       "      <td>Gaming</td>\n",
       "      <td>0.193119</td>\n",
       "    </tr>\n",
       "  </tbody>\n",
       "</table>\n",
       "</div>"
      ],
      "text/plain": [
       "                path_id  level                 role  \\\n",
       "32      Statistics Path      1       Data Assistant   \n",
       "12   Cybersecurity Path      1     Security Analyst   \n",
       "113     Statistics Path      3  Senior Statistician   \n",
       "75      Statistics Path      2         Statistician   \n",
       "7         Game Dev Path      1          Game Tester   \n",
       "\n",
       "                    required_skills  avg_salary industry  similarity  \n",
       "32                 excelrdata entry       40000  Science    0.519544  \n",
       "12     networkingpythonlog analysis       65000     Tech    0.254910  \n",
       "113  modelingpublicationsleadership       95000  Science    0.252109  \n",
       "75          hypothesis testingrspss       70000  Science    0.233821  \n",
       "7    bug reportinggameplay analysis       30000   Gaming    0.193119  "
      ]
     },
     "execution_count": 128,
     "metadata": {},
     "output_type": "execute_result"
    }
   ],
   "source": [
    "recommend_from_model(\"data analysis, python, sql, statistics\")"
   ]
  }
 ],
 "metadata": {
  "kernelspec": {
   "display_name": "myenv",
   "language": "python",
   "name": "python3"
  },
  "language_info": {
   "codemirror_mode": {
    "name": "ipython",
    "version": 3
   },
   "file_extension": ".py",
   "mimetype": "text/x-python",
   "name": "python",
   "nbconvert_exporter": "python",
   "pygments_lexer": "ipython3",
   "version": "3.12.3"
  }
 },
 "nbformat": 4,
 "nbformat_minor": 5
}
